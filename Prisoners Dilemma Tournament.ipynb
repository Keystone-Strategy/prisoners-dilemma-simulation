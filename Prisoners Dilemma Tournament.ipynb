{
 "cells": [
  {
   "cell_type": "code",
   "execution_count": 1,
   "metadata": {},
   "outputs": [],
   "source": [
    "from simulator import collect_agents, load_agents, run_match, run_tournament\n",
    "\n",
    "from constants import rounds, payoffs\n",
    "\n",
    "import itertools\n",
    "\n",
    "import importlib"
   ]
  },
  {
   "cell_type": "markdown",
   "metadata": {},
   "source": [
    "## README\n",
    "\n",
    "This notebook simulates a tournament in which programmed agents participate in repeated prisoner's dilemmas. For info on the prisoner's dilemma, see [here](https://en.wikipedia.org/wiki/Prisoner%27s_dilemma).\n",
    "\n",
    "In order to get started, run this notebook. Then try making your own agent to participate in the tournament. To do so:\n",
    "\n",
    "1. Copy one of the existing agents.\n",
    "2. Modify it however you'd like.\n",
    "\n",
    "Remember, the results you get will depend on the population of agents your agent competes with. Don't assume that the existing example agents are representative.\n",
    "\n"
   ]
  },
  {
   "cell_type": "markdown",
   "metadata": {},
   "source": [
    "## Tournament Simulator\n",
    "\n",
    "### Step 1: Collect all the agents"
   ]
  },
  {
   "cell_type": "code",
   "execution_count": 2,
   "metadata": {},
   "outputs": [],
   "source": [
    "agent_files = collect_agents()"
   ]
  },
  {
   "cell_type": "code",
   "execution_count": 3,
   "metadata": {},
   "outputs": [
    {
     "data": {
      "text/plain": [
       "['badagent.py', 'buggyfellow.py', 'niceagent.py', 'randomfellow.py']"
      ]
     },
     "execution_count": 3,
     "metadata": {},
     "output_type": "execute_result"
    }
   ],
   "source": [
    "agent_files"
   ]
  },
  {
   "cell_type": "markdown",
   "metadata": {},
   "source": [
    "### Step 2: Load agents"
   ]
  },
  {
   "cell_type": "code",
   "execution_count": 4,
   "metadata": {},
   "outputs": [],
   "source": [
    "agents = load_agents(agent_files)"
   ]
  },
  {
   "cell_type": "code",
   "execution_count": 5,
   "metadata": {},
   "outputs": [
    {
     "data": {
      "text/plain": [
       "[<agents.badagent.BadAgent at 0x7f69b23a95f8>,\n",
       " <agents.buggyfellow.buggyfellow at 0x7f69b23a97f0>,\n",
       " <agents.niceagent.NiceAgent at 0x7f69b23a93c8>,\n",
       " <agents.randomfellow.RandomFellow at 0x7f69b23a9940>]"
      ]
     },
     "execution_count": 5,
     "metadata": {},
     "output_type": "execute_result"
    }
   ],
   "source": [
    "agents"
   ]
  },
  {
   "cell_type": "code",
   "execution_count": 6,
   "metadata": {},
   "outputs": [
    {
     "data": {
      "text/plain": [
       "['Bad Agent', 'Buggy Fellow', 'Nice Agent', 'Random Fellow']"
      ]
     },
     "execution_count": 6,
     "metadata": {},
     "output_type": "execute_result"
    }
   ],
   "source": [
    "[a.name for a in agents]"
   ]
  },
  {
   "cell_type": "markdown",
   "metadata": {},
   "source": [
    "### Step 3: Run tournament"
   ]
  },
  {
   "cell_type": "code",
   "execution_count": 7,
   "metadata": {},
   "outputs": [
    {
     "data": {
      "text/plain": [
       "{'Bad Agent': -608,\n",
       " 'Buggy Fellow': -2100,\n",
       " 'Nice Agent': -1210,\n",
       " 'Random Fellow': -892}"
      ]
     },
     "execution_count": 7,
     "metadata": {},
     "output_type": "execute_result"
    }
   ],
   "source": [
    "scores = run_tournament(agents)\n",
    "scores"
   ]
  },
  {
   "cell_type": "markdown",
   "metadata": {},
   "source": [
    "## Helper: Run a test match"
   ]
  },
  {
   "cell_type": "code",
   "execution_count": 8,
   "metadata": {},
   "outputs": [
    {
     "data": {
      "text/plain": [
       "[<agents.badagent.BadAgent at 0x7f3aec7295c0>,\n",
       " <agents.buggyfellow.buggyfellow at 0x7f3aec729390>,\n",
       " <agents.niceagent.NiceAgent at 0x7f3aec729710>,\n",
       " <agents.randomfellow.RandomFellow at 0x7f3aec729240>]"
      ]
     },
     "execution_count": 8,
     "metadata": {},
     "output_type": "execute_result"
    }
   ],
   "source": [
    "agents"
   ]
  },
  {
   "cell_type": "code",
   "execution_count": 9,
   "metadata": {},
   "outputs": [
    {
     "data": {
      "text/plain": [
       "(-300, 0)"
      ]
     },
     "execution_count": 9,
     "metadata": {},
     "output_type": "execute_result"
    }
   ],
   "source": [
    "run_match(agents[1], agents[3], rounds, payoffs)"
   ]
  }
 ],
 "metadata": {
  "kernelspec": {
   "display_name": "Python 3",
   "language": "python",
   "name": "python3"
  },
  "language_info": {
   "codemirror_mode": {
    "name": "ipython",
    "version": 3
   },
   "file_extension": ".py",
   "mimetype": "text/x-python",
   "name": "python",
   "nbconvert_exporter": "python",
   "pygments_lexer": "ipython3",
   "version": "3.6.7"
  }
 },
 "nbformat": 4,
 "nbformat_minor": 4
}
